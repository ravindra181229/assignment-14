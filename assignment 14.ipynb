{
 "cells": [
  {
   "cell_type": "code",
   "execution_count": 1,
   "id": "a4284452",
   "metadata": {},
   "outputs": [
    {
     "data": {
      "text/plain": [
       "'RGBA stands for red-green-blue-alpha'"
      ]
     },
     "execution_count": 1,
     "metadata": {},
     "output_type": "execute_result"
    }
   ],
   "source": [
    "#Q1\n",
    "'''RGBA stands for red-green-blue-alpha'''"
   ]
  },
  {
   "cell_type": "code",
   "execution_count": 3,
   "id": "2b07ba73",
   "metadata": {},
   "outputs": [
    {
     "name": "stdout",
     "output_type": "stream",
     "text": [
      "(290, 174)\n"
     ]
    }
   ],
   "source": [
    "#Q2\n",
    "from PIL import Image\n",
    "car = Image.open(\"C:\\\\Users\\\\snopy\\\\Favorites\\\\Downloads\\\\car.png\")\n",
    "print(car.size)\n"
   ]
  },
  {
   "cell_type": "code",
   "execution_count": 2,
   "id": "ab5e5014",
   "metadata": {},
   "outputs": [
    {
     "data": {
      "text/plain": [
       "'a tuple is collections of objects which are ordered and immutable\\nthe box tuple provides read only access to users\\nit is the information about size iteration of fields which is of selective retrieval of the field content,'"
      ]
     },
     "execution_count": 2,
     "metadata": {},
     "output_type": "execute_result"
    }
   ],
   "source": [
    "#Q3\n",
    "'''a tuple is collections of objects which are ordered and immutable\n",
    "the box tuple provides read only access to users\n",
    "it is the information about size iteration of fields which is of selective retrieval of the field content,'''"
   ]
  },
  {
   "cell_type": "code",
   "execution_count": 13,
   "id": "cb34bc87",
   "metadata": {},
   "outputs": [
    {
     "name": "stdout",
     "output_type": "stream",
     "text": [
      "290\n",
      "174\n"
     ]
    },
    {
     "data": {
      "text/plain": [
       "'We can assign the values in the tuple to width and height variables in order to access with width and height individually.'"
      ]
     },
     "execution_count": 13,
     "metadata": {},
     "output_type": "execute_result"
    }
   ],
   "source": [
    "#Q4\n",
    "width , height = car.size\n",
    "print(width)\n",
    "print(height)\n",
    "'''We can assign the values in the tuple to width and height variables in order to access with width and height individually.'''\n"
   ]
  },
  {
   "cell_type": "code",
   "execution_count": 15,
   "id": "41e47f7e",
   "metadata": {},
   "outputs": [
    {
     "name": "stdout",
     "output_type": "stream",
     "text": [
      "we call Image.new()\n"
     ]
    },
    {
     "data": {
      "image/png": "[encoded data removed]",
      "text/plain": [
       "<PIL.Image.Image image mode=RGBA size=100x100 at 0x2306E83AFD0>"
      ]
     },
     "execution_count": 15,
     "metadata": {},
     "output_type": "execute_result"
    }
   ],
   "source": [
    "#Q5\n",
    "print('''we call Image.new()''')\n",
    "Image.new('RGBA', (100, 100), 'skyblue')"
   ]
  },
  {
   "cell_type": "code",
   "execution_count": 36,
   "id": "6a46c19c",
   "metadata": {},
   "outputs": [],
   "source": [
    "#6\n",
    "\"\"\"first we need to create an object for an image to be saved in png format and we should pass that to Image.save() and\n",
    "we call again Image.new() again to create another image object\"\"\"\n",
    "ima = Image.new(\"RGBA\",(50,100),'red')\n",
    "ima.save('color_red.png')"
   ]
  },
  {
   "cell_type": "code",
   "execution_count": 27,
   "id": "4e62d5f3",
   "metadata": {},
   "outputs": [
    {
     "data": {
      "text/plain": [
       "\"the ImageDraw module contains pillow's shape drawing code\""
      ]
     },
     "execution_count": 27,
     "metadata": {},
     "output_type": "execute_result"
    }
   ],
   "source": [
    "#7\n",
    "from PIL import ImageDraw\n",
    "'''the ImageDraw module contains pillow's shape drawing code'''"
   ]
  },
  {
   "cell_type": "code",
   "execution_count": 35,
   "id": "16adcfff",
   "metadata": {},
   "outputs": [
    {
     "data": {
      "text/plain": [
       "'we can pass it to ImageDraw.Draw() to get an ImageDraw ojects\\nthere are methods like point(),line(),rectangle() and polygon(), ellipse()'"
      ]
     },
     "execution_count": 35,
     "metadata": {},
     "output_type": "execute_result"
    }
   ],
   "source": [
    "#8\n",
    "'''we can pass it to ImageDraw.Draw() to get an ImageDraw ojects\n",
    "there are methods like point(),line(),rectangle() and polygon(), ellipse()'''"
   ]
  },
  {
   "cell_type": "code",
   "execution_count": null,
   "id": "1924ebbe",
   "metadata": {},
   "outputs": [],
   "source": []
  }
 ],
 "metadata": {
  "kernelspec": {
   "display_name": "Python 3",
   "language": "python",
   "name": "python3"
  },
  "language_info": {
   "codemirror_mode": {
    "name": "ipython",
    "version": 3
   },
   "file_extension": ".py",
   "mimetype": "text/x-python",
   "name": "python",
   "nbconvert_exporter": "python",
   "pygments_lexer": "ipython3",
   "version": "3.8.8"
  }
 },
 "nbformat": 4,
 "nbformat_minor": 5
}
